{
 "cells": [
  {
   "cell_type": "code",
   "execution_count": null,
   "metadata": {},
   "outputs": [],
   "source": [
    "import h5py\n",
    "import numpy as np\n",
    "\n",
    "Dataset = h5py._hl.dataset.Dataset\n",
    "Group = h5py._hl.group.Group\n",
    "Reference = h5py.h5r.Reference\n",
    "\n",
    "\n",
    "FILE = 'test_mat_hdf5.mat'"
   ]
  },
  {
   "cell_type": "code",
   "execution_count": null,
   "metadata": {},
   "outputs": [],
   "source": [
    "def deref_s(s, f, verbose=False):  # dereference struct\n",
    "    keys = [k for k in s.keys() if k != '#refs#']\n",
    "    \n",
    "    if verbose:\n",
    "        print(f'\\nStruct, keys = {keys}')\n",
    "        \n",
    "    d = {}\n",
    "    \n",
    "    for k in keys:\n",
    "        v = s[k]\n",
    "        \n",
    "        if isinstance(v, Group):  # struct\n",
    "            d[k] = deref_s(v, f, verbose=verbose)\n",
    "            \n",
    "        elif isinstance(v, Dataset) and isinstance(np.array(v).flat[0], Reference):  # cell\n",
    "            d[k] = deref_c(v, f, verbose=verbose)\n",
    "            \n",
    "        elif isinstance(v, Dataset) and v.dtype == 'uint16':\n",
    "            d[k] = ''.join(np.array(v).view('S2').flatten().astype(str))\n",
    "\n",
    "            if verbose:\n",
    "                print(f'String, chars = {d[k]}')\n",
    "            \n",
    "        elif isinstance(v, Dataset):  # numerical array\n",
    "            d[k] = np.array(v)\n",
    "            \n",
    "            if verbose:\n",
    "                print(f'Numerical array, shape = {d[k].shape}')\n",
    "        \n",
    "    return d\n",
    "\n",
    "\n",
    "def deref_c(c, f, verbose=False):  # dereference cell\n",
    "    n_v = c.size\n",
    "    shape = c.shape\n",
    "    \n",
    "    if verbose:\n",
    "        print(f'\\nCell, shape = {shape}')\n",
    "    \n",
    "    a = np.zeros(n_v, dtype='O')\n",
    "    \n",
    "    for i in range(n_v):\n",
    "        v = f['#refs#'][np.array(c).flat[i]]\n",
    "        \n",
    "        if isinstance(v, Group):  # struct\n",
    "            a[i] = deref_s(v, f, verbose=verbose)\n",
    "            \n",
    "        elif isinstance(v, Dataset) and isinstance(np.array(v).flat[0], Reference):  # cell\n",
    "            a[i] = deref_c(v, f, verbose=verbose)\n",
    "            \n",
    "        elif isinstance(v, Dataset) and v.dtype == 'uint16':\n",
    "            a[i] = ''.join(np.array(v).view('S2').flatten().astype(str))\n",
    "            \n",
    "            if verbose:\n",
    "                print(f'String, chars = {a[i]}')\n",
    "            \n",
    "        elif isinstance(v, Dataset):  # numerical array\n",
    "            a[i] = np.array(v)\n",
    "            \n",
    "            if verbose:\n",
    "                print(f'Numerical array, shape = {a[i].shape}')\n",
    "    \n",
    "    return a.reshape(shape)"
   ]
  },
  {
   "cell_type": "code",
   "execution_count": null,
   "metadata": {
    "scrolled": false
   },
   "outputs": [],
   "source": [
    "# usage\n",
    "f = h5py.File(FILE, 'r+')\n",
    "print(f.keys())\n",
    "\n",
    "f_dict = deref_s(f, f, verbose=True)\n",
    "print()\n",
    "print(f_dict.keys())"
   ]
  }
 ],
 "metadata": {
  "kernelspec": {
   "display_name": "Python 3",
   "language": "python",
   "name": "python3"
  },
  "language_info": {
   "codemirror_mode": {
    "name": "ipython",
    "version": 3
   },
   "file_extension": ".py",
   "mimetype": "text/x-python",
   "name": "python",
   "nbconvert_exporter": "python",
   "pygments_lexer": "ipython3",
   "version": "3.6.9"
  }
 },
 "nbformat": 4,
 "nbformat_minor": 2
}
